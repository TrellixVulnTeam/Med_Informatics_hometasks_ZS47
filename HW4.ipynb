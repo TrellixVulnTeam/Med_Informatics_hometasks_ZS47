{
 "cells": [
  {
   "cell_type": "code",
   "execution_count": 1,
   "metadata": {
    "collapsed": true
   },
   "outputs": [],
   "source": [
    "import pandas as pd\n",
    "from sklearn import linear_model\n",
    "\n",
    "#read file\n",
    "df = pd.read_excel('DataOnly\\\\WaitData.Published.xlsx')\n",
    "\n",
    "Y = df['Wait']\n",
    "X = df.drop(['Wait', 'x_ScheduledDTTM', 'x_ArrivalDTTM', 'x_BeginDTTM'], 1)"
   ]
  },
  {
   "cell_type": "code",
   "execution_count": 5,
   "metadata": {
    "pycharm": {
     "name": "#%%\n"
    }
   },
   "outputs": [
    {
     "name": "stdout",
     "output_type": "stream",
     "text": [
      "23.16628893634752\n"
     ]
    }
   ],
   "source": [
    "#linear regression\n",
    "model = linear_model.LinearRegression()\n",
    "model.fit(X, Y)\n",
    "Ypred = model.predict(X)\n",
    "r = Y-Ypred\n",
    "e = abs(r).mean()\n",
    "\n",
    "print(e)"
   ]
  },
  {
   "cell_type": "code",
   "execution_count": 6,
   "metadata": {
    "pycharm": {
     "name": "#%%\n"
    }
   },
   "outputs": [
    {
     "name": "stdout",
     "output_type": "stream",
     "text": [
      "\n",
      ">Python feature selection:\n",
      "32.50541172120655 ['CardiacCount']\n",
      "31.224937706982736 ['CardiacCount', 'DelayedInLine']\n",
      "31.25752894868932 ['CardiacCount', 'StartTime', 'DelayedInLine']\n"
     ]
    }
   ],
   "source": [
    "# Run Python feature selection\n",
    "if True: # just in case I want to disable this part\n",
    "    print('\\n>Python feature selection:')\n",
    "    from sklearn.feature_selection import RFE\n",
    "    from itertools import compress\n",
    "    for nFeatures in range(1,4):\n",
    "        rfe = RFE(model, n_features_to_select=nFeatures)\n",
    "        X_rfe = rfe.fit_transform(X,Y) #transforming data using RFE\n",
    "        #Fitting the data to model\n",
    "        model.fit(X_rfe,Y)\n",
    "        #print(rfe.support_)\n",
    "        #print(rfe.ranking_)\n",
    "        cols = list(compress( X.columns, rfe.support_))\n",
    "        model.fit(X[cols],Y)\n",
    "        e = abs(Y-model.predict(X[cols])).mean()\n",
    "        print(e, cols)"
   ]
  },
  {
   "cell_type": "code",
   "execution_count": 9,
   "metadata": {
    "pycharm": {
     "name": "#%%\n"
    }
   },
   "outputs": [
    {
     "name": "stdout",
     "output_type": "stream",
     "text": [
      "31.227057699733514\n"
     ]
    }
   ],
   "source": [
    "import numpy as np\n",
    "import sys\n",
    "\n",
    "def lin_reg(X, Y):\n",
    "    model = linear_model.LinearRegression()\n",
    "    model.fit(X, Y)\n",
    "    Ypred = model.predict(X) # use trained regression model to predict\n",
    "    r = Y-Ypred # compute prediction error (residual)\n",
    "    return abs(r).mean() #\n",
    "\n",
    "min_e = sys.maxsize\n",
    "best_column = ''\n"
   ]
  },
  {
   "cell_type": "code",
   "execution_count": 14,
   "metadata": {
    "pycharm": {
     "name": "#%%\n"
    }
   },
   "outputs": [
    {
     "name": "stdout",
     "output_type": "stream",
     "text": [
      "1 31.227057699733514 DelayedInLine\n",
      "2 30.137965863467567 LineCount0Strict\n",
      "3 28.69649063225338 LineCount0\n",
      "4 28.2463095851323 SumDelayWaitingInLine\n",
      "5 28.147006842164515 AheadCount\n",
      "6 24.989574734774777 NumCompletedToday\n",
      "7 24.659186407251333 NumScheduledNextW2\n",
      "8 24.329071006187288 DelayCount\n",
      "9 24.071936786758197 InProgressSize\n",
      "10 23.84650949206529 StartTime4\n",
      "11 23.692619398547166 AvgDelayForDay\n",
      "12 23.627914296582315 AvgWaitLastK1Customers\n",
      "13 23.57915967047999 SumDelayInProgress\n",
      "14 23.548081793881664 NumScheduledNextSlot\n",
      "15 23.52096351255369 IsFirst\n"
     ]
    }
   ],
   "source": [
    "X_nf = X\n",
    "for n in range(0, 15): # n is the number of features\n",
    "    min_e = sys.maxsize\n",
    "    for column in X_nf.columns:\n",
    "        if n == 0:\n",
    "            X_new = np.array(X[column].values.tolist())\n",
    "            X_new = X_new.reshape(-1, 1)\n",
    "        else:\n",
    "            X_new = pd.concat([X_best, X_nf[column]], axis=1)\n",
    "        e_new = lin_reg(X_new, Y)\n",
    "        if min_e > e_new:\n",
    "            best_column = column\n",
    "            min_e = e_new\n",
    "\n",
    "    if n == 0:\n",
    "        X_best = X[best_column]\n",
    "        X_nf = X.drop(best_column, axis='columns')\n",
    "    else:\n",
    "        X_best = pd.concat([X_best, X[best_column]], axis=1)\n",
    "        X_nf = X_nf.drop(best_column, axis='columns')\n",
    "    print(n+1, min_e, best_column)"
   ]
  },
  {
   "cell_type": "code",
   "execution_count": 15,
   "metadata": {
    "pycharm": {
     "name": "#%%\n"
    }
   },
   "outputs": [
    {
     "name": "stdout",
     "output_type": "stream",
     "text": [
      "(26.072745167091213, 'NumCompletedToday', 'AheadCount', 'SumDelayWaitingByExamCode')\n"
     ]
    }
   ],
   "source": [
    "all_variants = []\n",
    "X_best = X['LineCount0']\n",
    "X_nf = X\n",
    "\n",
    "for f1 in X.columns:\n",
    "    X_2f = X.drop(f1, axis='columns')\n",
    "    for f2 in X_2f.columns:\n",
    "        X_3f = X_2f.drop(f2, axis='columns')\n",
    "        for f3 in X_3f.columns:\n",
    "            X_new = pd.concat([X[f1], X_2f[f2], X_3f[f3]], axis=1)\n",
    "            e_new = lin_reg(X_new, Y)\n",
    "            all_variants.append((e_new, f1, f2, f3))\n",
    "\n",
    "all_variants.sort()\n",
    "print(all_variants[0])"
   ]
  }
 ],
 "metadata": {
  "kernelspec": {
   "display_name": "Python 3",
   "language": "python",
   "name": "python3"
  },
  "language_info": {
   "codemirror_mode": {
    "name": "ipython",
    "version": 3
   },
   "file_extension": ".py",
   "mimetype": "text/x-python",
   "name": "python",
   "nbconvert_exporter": "python",
   "pygments_lexer": "ipython3",
   "version": "3.7.6"
  }
 },
 "nbformat": 4,
 "nbformat_minor": 1
}